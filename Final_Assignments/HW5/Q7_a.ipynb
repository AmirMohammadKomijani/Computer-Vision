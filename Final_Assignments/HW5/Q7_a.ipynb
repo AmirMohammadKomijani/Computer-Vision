{
 "cells": [
  {
   "cell_type": "code",
   "execution_count": 43,
   "metadata": {},
   "outputs": [],
   "source": [
    "import cv2\n",
    "import numpy as np\n",
    "import matplotlib.pyplot as plt\n"
   ]
  },
  {
   "cell_type": "code",
   "execution_count": 44,
   "metadata": {},
   "outputs": [],
   "source": [
    "image = cv2.imread('images/car.jpg')"
   ]
  },
  {
   "cell_type": "code",
   "execution_count": 45,
   "metadata": {},
   "outputs": [
    {
     "name": "stdout",
     "output_type": "stream",
     "text": [
      "Number of cars: 25\n"
     ]
    }
   ],
   "source": [
    "import cv2\n",
    "import numpy as np\n",
    "\n",
    "# Load the image\n",
    "image = cv2.imread('images/car.jpg')\n",
    "desired_image = image[:-120,:]\n",
    "# Convert to grayscale\n",
    "gray = cv2.cvtColor(desired_image, cv2.COLOR_BGR2GRAY)\n",
    "\n",
    "# Apply threshold to get binary desired_image\n",
    "_, thresh = cv2.threshold(gray, 127, 255, cv2.THRESH_BINARY_INV)\n",
    "\n",
    "# Perform morphological operations to reduce noise and separate overlapping objects\n",
    "kernel = cv2.getStructuringElement(cv2.MORPH_RECT, (10,10))\n",
    "opening = cv2.morphologyEx(thresh, cv2.MORPH_OPEN, kernel)\n",
    "closing = cv2.morphologyEx(opening, cv2.MORPH_CLOSE, kernel)\n",
    "\n",
    "# Find contours in the desired_image\n",
    "contours, _ = cv2.findContours(closing, cv2.RETR_TREE, cv2.CHAIN_APPROX_SIMPLE)\n",
    "\n",
    "# Filter contours based on area (optional)\n",
    "min_area = 550  # Minimum area to be considered a car\n",
    "contours = [cnt for cnt in contours if cv2.contourArea(cnt) > min_area]\n",
    "\n",
    "# Draw bounding boxes around the detected cars\n",
    "for cnt in contours:\n",
    "    x, y, w, h = cv2.boundingRect(cnt)\n",
    "    cv2.rectangle(desired_image, (x, y), (x+w, y+h), (0, 255, 0), 2)\n",
    "\n",
    "# Save the result\n",
    "cv2.imwrite('detected_cars.jpg', desired_image)\n",
    "\n",
    "print(f'Number of cars: {len(contours)}')\n"
   ]
  }
 ],
 "metadata": {
  "kernelspec": {
   "display_name": "Python 3",
   "language": "python",
   "name": "python3"
  },
  "language_info": {
   "codemirror_mode": {
    "name": "ipython",
    "version": 3
   },
   "file_extension": ".py",
   "mimetype": "text/x-python",
   "name": "python",
   "nbconvert_exporter": "python",
   "pygments_lexer": "ipython3",
   "version": "3.11.0"
  }
 },
 "nbformat": 4,
 "nbformat_minor": 2
}
