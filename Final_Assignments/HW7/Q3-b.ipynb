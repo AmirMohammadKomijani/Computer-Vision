{
 "cells": [
  {
   "cell_type": "code",
   "execution_count": 3,
   "metadata": {},
   "outputs": [
    {
     "name": "stdout",
     "output_type": "stream",
     "text": [
      "Coins detected and saved as detected_coins.png\n"
     ]
    }
   ],
   "source": [
    "import cv2\n",
    "import numpy as np\n",
    "\n",
    "# Load the main image\n",
    "main_image = cv2.imread('coins.png')\n",
    "main_gray = cv2.cvtColor(main_image, cv2.COLOR_BGR2GRAY)\n",
    "\n",
    "# Use edge detection to find potential circular regions\n",
    "edges = cv2.Canny(main_gray, 50, 150)\n",
    "circles = cv2.HoughCircles(edges, cv2.HOUGH_GRADIENT, dp=1, minDist=50,\n",
    "                           param1=50, param2=30, minRadius=20, maxRadius=80)\n",
    "\n",
    "if circles is not None:\n",
    "    circles = np.round(circles[0, :]).astype(\"int\")\n",
    "\n",
    "    # Select the largest circle as the template\n",
    "    largest_circle = circles[np.argmax(circles[:, 2])]  # Index of the largest circle based on radius\n",
    "\n",
    "    # Extract the template from the largest detected circle\n",
    "    x, y, r = largest_circle\n",
    "    template = main_gray[y - r:y + r, x - r:x + r]\n",
    "\n",
    "    # Perform template matching\n",
    "    result = cv2.matchTemplate(main_gray, template, cv2.TM_CCOEFF_NORMED)\n",
    "\n",
    "    # Define a threshold for detection\n",
    "    threshold = 0.5\n",
    "    locations = np.where(result >= threshold)\n",
    "\n",
    "    # Draw rectangles around detected coins\n",
    "    w, h = template.shape[::-1]\n",
    "    for pt in zip(*locations[::-1]):\n",
    "        cv2.rectangle(main_image, pt, (pt[0] + w, pt[1] + h), (0, 0, 255), 2)\n",
    "\n",
    "    # Save the result image\n",
    "    cv2.imwrite('detected_coins.png', main_image)\n",
    "\n",
    "    # Display the result (optional)\n",
    "    # cv2.imshow('Detected Coins', main_image)\n",
    "    # cv2.waitKey(0)\n",
    "    # cv2.destroyAllWindows()\n",
    "\n",
    "    print(\"Coins detected and saved as detected_coins.png\")\n",
    "else:\n",
    "    print(\"No circles (coins) detected in the image.\")\n"
   ]
  },
  {
   "cell_type": "code",
   "execution_count": null,
   "metadata": {},
   "outputs": [],
   "source": []
  },
  {
   "cell_type": "code",
   "execution_count": null,
   "metadata": {},
   "outputs": [],
   "source": []
  }
 ],
 "metadata": {
  "kernelspec": {
   "display_name": "Python 3",
   "language": "python",
   "name": "python3"
  },
  "language_info": {
   "codemirror_mode": {
    "name": "ipython",
    "version": 3
   },
   "file_extension": ".py",
   "mimetype": "text/x-python",
   "name": "python",
   "nbconvert_exporter": "python",
   "pygments_lexer": "ipython3",
   "version": "3.11.0"
  }
 },
 "nbformat": 4,
 "nbformat_minor": 2
}
